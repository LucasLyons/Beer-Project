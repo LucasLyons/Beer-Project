{
 "cells": [
  {
   "cell_type": "markdown",
   "id": "281ed45f-9ebc-45ad-8a48-41cdc00ecb9b",
   "metadata": {},
   "source": [
    "Welcome to my data analysis project! In this project, we will be analyzing the \"Beer Reviews\" dataset from Kaggle, uploaded by user \"Datadoume\". This dataset contains data from ~1.5 million beer reviews from the website \"Beer Advocate\". Using the data available, we're going to try and analyze the following question: Can we identify trends in consumers' beer preferences? First, let's pull the dataset from Kaggle. "
   ]
  },
  {
   "cell_type": "code",
   "execution_count": 1,
   "id": "09ceaa8b-2866-46cb-ad97-0c361df93809",
   "metadata": {},
   "outputs": [],
   "source": [
    "%%capture\n",
    "import kagglehub\n",
    "import pandas as pd\n",
    "import numpy as np\n",
    "import seaborn as sb\n",
    "import matplotlib.pyplot as plt"
   ]
  },
  {
   "cell_type": "code",
   "execution_count": 2,
   "id": "de3990ae-5cc6-4ec5-9e6b-ef3df86b5e86",
   "metadata": {},
   "outputs": [
    {
     "name": "stderr",
     "output_type": "stream",
     "text": [
      "100%|██████████| 27.4M/27.4M [00:05<00:00, 5.36MB/s]\n"
     ]
    }
   ],
   "source": [
    "# Download latest version\n",
    "path = kagglehub.dataset_download(\"rdoume/beerreviews\", path='beer_reviews.csv', force_download = True)\n",
    "\n",
    "beer = pd.read_csv(path)"
   ]
  },
  {
   "cell_type": "markdown",
   "id": "592e81b5-87ed-4ccc-871d-4dc3d1bfb4f3",
   "metadata": {},
   "source": [
    "Let's take a quick look at our data."
   ]
  },
  {
   "cell_type": "code",
   "execution_count": 3,
   "id": "ecb55ac7-6151-4a69-8801-b0fa8f6217a8",
   "metadata": {},
   "outputs": [
    {
     "data": {
      "text/html": [
       "<div>\n",
       "<style scoped>\n",
       "    .dataframe tbody tr th:only-of-type {\n",
       "        vertical-align: middle;\n",
       "    }\n",
       "\n",
       "    .dataframe tbody tr th {\n",
       "        vertical-align: top;\n",
       "    }\n",
       "\n",
       "    .dataframe thead th {\n",
       "        text-align: right;\n",
       "    }\n",
       "</style>\n",
       "<table border=\"1\" class=\"dataframe\">\n",
       "  <thead>\n",
       "    <tr style=\"text-align: right;\">\n",
       "      <th></th>\n",
       "      <th>brewery_id</th>\n",
       "      <th>brewery_name</th>\n",
       "      <th>review_time</th>\n",
       "      <th>review_overall</th>\n",
       "      <th>review_aroma</th>\n",
       "      <th>review_appearance</th>\n",
       "      <th>review_profilename</th>\n",
       "      <th>beer_style</th>\n",
       "      <th>review_palate</th>\n",
       "      <th>review_taste</th>\n",
       "      <th>beer_name</th>\n",
       "      <th>beer_abv</th>\n",
       "      <th>beer_beerid</th>\n",
       "    </tr>\n",
       "  </thead>\n",
       "  <tbody>\n",
       "    <tr>\n",
       "      <th>0</th>\n",
       "      <td>10325</td>\n",
       "      <td>Vecchio Birraio</td>\n",
       "      <td>1234817823</td>\n",
       "      <td>1.5</td>\n",
       "      <td>2.0</td>\n",
       "      <td>2.5</td>\n",
       "      <td>stcules</td>\n",
       "      <td>Hefeweizen</td>\n",
       "      <td>1.5</td>\n",
       "      <td>1.5</td>\n",
       "      <td>Sausa Weizen</td>\n",
       "      <td>5.0</td>\n",
       "      <td>47986</td>\n",
       "    </tr>\n",
       "    <tr>\n",
       "      <th>1</th>\n",
       "      <td>10325</td>\n",
       "      <td>Vecchio Birraio</td>\n",
       "      <td>1235915097</td>\n",
       "      <td>3.0</td>\n",
       "      <td>2.5</td>\n",
       "      <td>3.0</td>\n",
       "      <td>stcules</td>\n",
       "      <td>English Strong Ale</td>\n",
       "      <td>3.0</td>\n",
       "      <td>3.0</td>\n",
       "      <td>Red Moon</td>\n",
       "      <td>6.2</td>\n",
       "      <td>48213</td>\n",
       "    </tr>\n",
       "    <tr>\n",
       "      <th>2</th>\n",
       "      <td>10325</td>\n",
       "      <td>Vecchio Birraio</td>\n",
       "      <td>1235916604</td>\n",
       "      <td>3.0</td>\n",
       "      <td>2.5</td>\n",
       "      <td>3.0</td>\n",
       "      <td>stcules</td>\n",
       "      <td>Foreign / Export Stout</td>\n",
       "      <td>3.0</td>\n",
       "      <td>3.0</td>\n",
       "      <td>Black Horse Black Beer</td>\n",
       "      <td>6.5</td>\n",
       "      <td>48215</td>\n",
       "    </tr>\n",
       "    <tr>\n",
       "      <th>3</th>\n",
       "      <td>10325</td>\n",
       "      <td>Vecchio Birraio</td>\n",
       "      <td>1234725145</td>\n",
       "      <td>3.0</td>\n",
       "      <td>3.0</td>\n",
       "      <td>3.5</td>\n",
       "      <td>stcules</td>\n",
       "      <td>German Pilsener</td>\n",
       "      <td>2.5</td>\n",
       "      <td>3.0</td>\n",
       "      <td>Sausa Pils</td>\n",
       "      <td>5.0</td>\n",
       "      <td>47969</td>\n",
       "    </tr>\n",
       "    <tr>\n",
       "      <th>4</th>\n",
       "      <td>1075</td>\n",
       "      <td>Caldera Brewing Company</td>\n",
       "      <td>1293735206</td>\n",
       "      <td>4.0</td>\n",
       "      <td>4.5</td>\n",
       "      <td>4.0</td>\n",
       "      <td>johnmichaelsen</td>\n",
       "      <td>American Double / Imperial IPA</td>\n",
       "      <td>4.0</td>\n",
       "      <td>4.5</td>\n",
       "      <td>Cauldron DIPA</td>\n",
       "      <td>7.7</td>\n",
       "      <td>64883</td>\n",
       "    </tr>\n",
       "  </tbody>\n",
       "</table>\n",
       "</div>"
      ],
      "text/plain": [
       "   brewery_id             brewery_name  review_time  review_overall  \\\n",
       "0       10325          Vecchio Birraio   1234817823             1.5   \n",
       "1       10325          Vecchio Birraio   1235915097             3.0   \n",
       "2       10325          Vecchio Birraio   1235916604             3.0   \n",
       "3       10325          Vecchio Birraio   1234725145             3.0   \n",
       "4        1075  Caldera Brewing Company   1293735206             4.0   \n",
       "\n",
       "   review_aroma  review_appearance review_profilename  \\\n",
       "0           2.0                2.5            stcules   \n",
       "1           2.5                3.0            stcules   \n",
       "2           2.5                3.0            stcules   \n",
       "3           3.0                3.5            stcules   \n",
       "4           4.5                4.0     johnmichaelsen   \n",
       "\n",
       "                       beer_style  review_palate  review_taste  \\\n",
       "0                      Hefeweizen            1.5           1.5   \n",
       "1              English Strong Ale            3.0           3.0   \n",
       "2          Foreign / Export Stout            3.0           3.0   \n",
       "3                 German Pilsener            2.5           3.0   \n",
       "4  American Double / Imperial IPA            4.0           4.5   \n",
       "\n",
       "                beer_name  beer_abv  beer_beerid  \n",
       "0            Sausa Weizen       5.0        47986  \n",
       "1                Red Moon       6.2        48213  \n",
       "2  Black Horse Black Beer       6.5        48215  \n",
       "3              Sausa Pils       5.0        47969  \n",
       "4           Cauldron DIPA       7.7        64883  "
      ]
     },
     "execution_count": 3,
     "metadata": {},
     "output_type": "execute_result"
    }
   ],
   "source": [
    "beer.head()"
   ]
  },
  {
   "cell_type": "markdown",
   "id": "97ce622a-b7f5-4345-943a-bc74a33db2d9",
   "metadata": {},
   "source": [
    "We can see that each row represents a review ranking a beer on several qualities including an overall score. We also have some basic information about each beer reviewed, such as its type and the brewery producing the beer. Finally, we have some metadata: the date the review was posted, the username of the the user who posted the review, and unique identifiers for the breweries/beers. For the purposes of our analysis, we'll keep all the columns since they could all be useful."
   ]
  },
  {
   "cell_type": "markdown",
   "id": "14e72244-4836-40f3-b86d-4fb8c5ba8b0e",
   "metadata": {},
   "source": [
    "Now let's see how many rows have missing values."
   ]
  },
  {
   "cell_type": "code",
   "execution_count": 4,
   "id": "3bcaa405-0870-41b6-a223-1bfca8af73ad",
   "metadata": {},
   "outputs": [
    {
     "data": {
      "text/plain": [
       "brewery_id                0\n",
       "brewery_name             15\n",
       "review_time               0\n",
       "review_overall            0\n",
       "review_aroma              0\n",
       "review_appearance         0\n",
       "review_profilename      348\n",
       "beer_style                0\n",
       "review_palate             0\n",
       "review_taste              0\n",
       "beer_name                 0\n",
       "beer_abv              67785\n",
       "beer_beerid               0\n",
       "dtype: int64"
      ]
     },
     "execution_count": 4,
     "metadata": {},
     "output_type": "execute_result"
    }
   ],
   "source": [
    "#sum rows with one or more null values\n",
    "beer.isna().sum()"
   ]
  },
  {
   "cell_type": "markdown",
   "id": "81769aa0-8234-4661-bb79-504bd1796796",
   "metadata": {},
   "source": [
    "We can see from the above output that around 68000 rows have one or more null values and most of the missing values are the ABV (alcohol by volume). Since the number of rows with null values is low compared to the size of the  data set, in this case, we'll opt to discard the null values (we are going to use ABV in our analysis)."
   ]
  },
  {
   "cell_type": "code",
   "execution_count": 5,
   "id": "a953d145-3155-4839-8072-898db6842b30",
   "metadata": {},
   "outputs": [],
   "source": [
    "#remove nulls\n",
    "beer = beer[-beer.isna().any(axis=1)]"
   ]
  },
  {
   "cell_type": "markdown",
   "id": "b3d7c86f",
   "metadata": {},
   "source": [
    "We'll also look for duplicates in the data."
   ]
  },
  {
   "cell_type": "code",
   "execution_count": 6,
   "id": "9b2fe84a",
   "metadata": {},
   "outputs": [
    {
     "data": {
      "text/plain": [
       "np.int64(0)"
      ]
     },
     "execution_count": 6,
     "metadata": {},
     "output_type": "execute_result"
    }
   ],
   "source": [
    "beer.duplicated().sum()"
   ]
  },
  {
   "cell_type": "markdown",
   "id": "f61f4d64",
   "metadata": {},
   "source": [
    "Looks like we're good; no duplicates. At this point, we're ready to begin doing some preliminary analysis of the data. Let's take a look at the review scores first."
   ]
  },
  {
   "cell_type": "code",
   "execution_count": 7,
   "id": "dc6e4886-c95c-4fd8-9155-47ca4559d1f5",
   "metadata": {},
   "outputs": [
    {
     "data": {
      "text/html": [
       "<div>\n",
       "<style scoped>\n",
       "    .dataframe tbody tr th:only-of-type {\n",
       "        vertical-align: middle;\n",
       "    }\n",
       "\n",
       "    .dataframe tbody tr th {\n",
       "        vertical-align: top;\n",
       "    }\n",
       "\n",
       "    .dataframe thead th {\n",
       "        text-align: right;\n",
       "    }\n",
       "</style>\n",
       "<table border=\"1\" class=\"dataframe\">\n",
       "  <thead>\n",
       "    <tr style=\"text-align: right;\">\n",
       "      <th></th>\n",
       "      <th>review_overall</th>\n",
       "      <th>review_aroma</th>\n",
       "      <th>review_appearance</th>\n",
       "      <th>review_palate</th>\n",
       "      <th>review_taste</th>\n",
       "    </tr>\n",
       "  </thead>\n",
       "  <tbody>\n",
       "    <tr>\n",
       "      <th>count</th>\n",
       "      <td>1518478.00</td>\n",
       "      <td>1518478.00</td>\n",
       "      <td>1518478.00</td>\n",
       "      <td>1518478.00</td>\n",
       "      <td>1518478.00</td>\n",
       "    </tr>\n",
       "    <tr>\n",
       "      <th>mean</th>\n",
       "      <td>3.82</td>\n",
       "      <td>3.75</td>\n",
       "      <td>3.85</td>\n",
       "      <td>3.75</td>\n",
       "      <td>3.80</td>\n",
       "    </tr>\n",
       "    <tr>\n",
       "      <th>std</th>\n",
       "      <td>0.72</td>\n",
       "      <td>0.70</td>\n",
       "      <td>0.61</td>\n",
       "      <td>0.68</td>\n",
       "      <td>0.73</td>\n",
       "    </tr>\n",
       "    <tr>\n",
       "      <th>min</th>\n",
       "      <td>0.00</td>\n",
       "      <td>1.00</td>\n",
       "      <td>0.00</td>\n",
       "      <td>1.00</td>\n",
       "      <td>1.00</td>\n",
       "    </tr>\n",
       "    <tr>\n",
       "      <th>25%</th>\n",
       "      <td>3.50</td>\n",
       "      <td>3.50</td>\n",
       "      <td>3.50</td>\n",
       "      <td>3.50</td>\n",
       "      <td>3.50</td>\n",
       "    </tr>\n",
       "    <tr>\n",
       "      <th>50%</th>\n",
       "      <td>4.00</td>\n",
       "      <td>4.00</td>\n",
       "      <td>4.00</td>\n",
       "      <td>4.00</td>\n",
       "      <td>4.00</td>\n",
       "    </tr>\n",
       "    <tr>\n",
       "      <th>75%</th>\n",
       "      <td>4.50</td>\n",
       "      <td>4.00</td>\n",
       "      <td>4.00</td>\n",
       "      <td>4.00</td>\n",
       "      <td>4.50</td>\n",
       "    </tr>\n",
       "    <tr>\n",
       "      <th>max</th>\n",
       "      <td>5.00</td>\n",
       "      <td>5.00</td>\n",
       "      <td>5.00</td>\n",
       "      <td>5.00</td>\n",
       "      <td>5.00</td>\n",
       "    </tr>\n",
       "  </tbody>\n",
       "</table>\n",
       "</div>"
      ],
      "text/plain": [
       "       review_overall  review_aroma  review_appearance  review_palate  \\\n",
       "count      1518478.00    1518478.00         1518478.00     1518478.00   \n",
       "mean             3.82          3.75               3.85           3.75   \n",
       "std              0.72          0.70               0.61           0.68   \n",
       "min              0.00          1.00               0.00           1.00   \n",
       "25%              3.50          3.50               3.50           3.50   \n",
       "50%              4.00          4.00               4.00           4.00   \n",
       "75%              4.50          4.00               4.00           4.00   \n",
       "max              5.00          5.00               5.00           5.00   \n",
       "\n",
       "       review_taste  \n",
       "count    1518478.00  \n",
       "mean           3.80  \n",
       "std            0.73  \n",
       "min            1.00  \n",
       "25%            3.50  \n",
       "50%            4.00  \n",
       "75%            4.50  \n",
       "max            5.00  "
      ]
     },
     "execution_count": 7,
     "metadata": {},
     "output_type": "execute_result"
    }
   ],
   "source": [
    "#subset data\n",
    "cols = [\"review_overall\", \"review_aroma\", \"review_appearance\",\n",
    "        \"review_palate\", \"review_taste\"]\n",
    "round(beer[cols].describe(), 2)"
   ]
  },
  {
   "cell_type": "code",
   "execution_count": 8,
   "id": "0c435604",
   "metadata": {},
   "outputs": [
    {
     "name": "stderr",
     "output_type": "stream",
     "text": [
      "/var/folders/b6/811_kpyj6yd5q_vzydsq8cbc0000gn/T/ipykernel_55905/3967134386.py:21: UserWarning: FigureCanvasAgg is non-interactive, and thus cannot be shown\n",
      "  fig.show()\n"
     ]
    },
    {
     "data": {
      "image/png": "[encoded data removed]",
      "text/plain": [
       "<Figure size 1000x600 with 5 Axes>"
      ]
     },
     "metadata": {},
     "output_type": "display_data"
    }
   ],
   "source": [
    "#create a subplots figure + axes\n",
    "fig, axes = plt.subplots(2,3, figsize=(10,6))\n",
    "#makes axes 1D\n",
    "axes = axes.flatten()\n",
    "#loop over axes and plot\n",
    "for i in range(5):\n",
    "        ax = axes[i]\n",
    "        key = cols[i]\n",
    "        sb.countplot(data=beer, x=cols[i], ax=ax)\n",
    "        ax.tick_params(axis='x', rotation=60)\n",
    "        ax.set_title(f'Counts of {key}')\n",
    "        yticks = ax.get_yticks()\n",
    "        ylabels = [f'{int(tick/1000)}k' for tick in yticks]\n",
    "        ax.set_yticks(yticks)\n",
    "        ax.set_yticklabels(ylabels)\n",
    "        ax.set_ylabel('Count (thousands)')\n",
    "        ax.set_xlabel(f'{key} Score')\n",
    "#show results\n",
    "fig.tight_layout()\n",
    "fig.delaxes(axes[5])\n",
    "fig.show()"
   ]
  },
  {
   "cell_type": "markdown",
   "id": "0b610dd2",
   "metadata": {},
   "source": [
    "We can see from the above results that the distribution for each score is similar - 4.0 is the most common score, with scores of 5.0 or 2.5 and below being quite uncommon. All the score distributions exhibit left skew. Let's look at ABV now."
   ]
  },
  {
   "cell_type": "code",
   "execution_count": 9,
   "id": "00c10648",
   "metadata": {},
   "outputs": [
    {
     "data": {
      "text/plain": [
       "count    1518478.00\n",
       "mean           7.04\n",
       "std            2.32\n",
       "min            0.01\n",
       "25%            5.20\n",
       "50%            6.50\n",
       "75%            8.50\n",
       "max           57.70\n",
       "Name: beer_abv, dtype: float64"
      ]
     },
     "execution_count": 9,
     "metadata": {},
     "output_type": "execute_result"
    }
   ],
   "source": [
    "#perform basic analysis at ABV data\n",
    "round(beer['beer_abv'].describe(), 2)"
   ]
  },
  {
   "cell_type": "markdown",
   "id": "3f5af425",
   "metadata": {},
   "source": [
    "We can see that there is a large range between the maximum and minimum values. Let's take a closer look at what a \"typical\" ABV value looks like."
   ]
  },
  {
   "cell_type": "code",
   "execution_count": 10,
   "id": "db2bc2a0",
   "metadata": {},
   "outputs": [
    {
     "data": {
      "text/plain": [
       "0.50     6.5\n",
       "0.95    11.0\n",
       "Name: beer_abv, dtype: float64"
      ]
     },
     "execution_count": 10,
     "metadata": {},
     "output_type": "execute_result"
    }
   ],
   "source": [
    "quants = beer['beer_abv'].quantile([.5,.95])\n",
    "quants"
   ]
  },
  {
   "cell_type": "markdown",
   "id": "a9b0d83f",
   "metadata": {},
   "source": [
    "We can see that 90% of beers have ABV values between 0.95 and 11. Let's take a look at the distribution of beers within this range."
   ]
  },
  {
   "cell_type": "code",
   "execution_count": 11,
   "id": "34ff7fb5",
   "metadata": {},
   "outputs": [
    {
     "data": {
      "text/plain": [
       "Text(0.5, 1.0, 'ABV Counts')"
      ]
     },
     "execution_count": 11,
     "metadata": {},
     "output_type": "execute_result"
    },
    {
     "data": {
      "image/png": "[encoded data removed]",
      "text/plain": [
       "<Figure size 640x480 with 1 Axes>"
      ]
     },
     "metadata": {},
     "output_type": "display_data"
    }
   ],
   "source": [
    "#let's plot the abv counts\n",
    "ax = sb.histplot(data=beer, x='beer_abv', binrange=(.95,11))\n",
    "ticks = list(range(12))\n",
    "ax.set_xticks(ticks)\n",
    "ax.set_xticklabels(ticks)\n",
    "ax.set_title('ABV Counts')"
   ]
  },
  {
   "cell_type": "markdown",
   "id": "1637527e",
   "metadata": {},
   "source": [
    "It appears that beers with an ABV of 5 are the most common. It also appears that whole numbers are better represented. For fun, let's take a look at beer with the highest ABV."
   ]
  },
  {
   "cell_type": "code",
   "execution_count": 14,
   "id": "a594f33d",
   "metadata": {},
   "outputs": [
    {
     "data": {
      "text/html": [
       "<div>\n",
       "<style scoped>\n",
       "    .dataframe tbody tr th:only-of-type {\n",
       "        vertical-align: middle;\n",
       "    }\n",
       "\n",
       "    .dataframe tbody tr th {\n",
       "        vertical-align: top;\n",
       "    }\n",
       "\n",
       "    .dataframe thead th {\n",
       "        text-align: right;\n",
       "    }\n",
       "</style>\n",
       "<table border=\"1\" class=\"dataframe\">\n",
       "  <thead>\n",
       "    <tr style=\"text-align: right;\">\n",
       "      <th></th>\n",
       "      <th>brewery_id</th>\n",
       "      <th>brewery_name</th>\n",
       "      <th>review_time</th>\n",
       "      <th>review_overall</th>\n",
       "      <th>review_aroma</th>\n",
       "      <th>review_appearance</th>\n",
       "      <th>review_profilename</th>\n",
       "      <th>beer_style</th>\n",
       "      <th>review_palate</th>\n",
       "      <th>review_taste</th>\n",
       "      <th>beer_name</th>\n",
       "      <th>beer_abv</th>\n",
       "      <th>beer_beerid</th>\n",
       "    </tr>\n",
       "  </thead>\n",
       "  <tbody>\n",
       "    <tr>\n",
       "      <th>12919</th>\n",
       "      <td>6513</td>\n",
       "      <td>Schorschbräu</td>\n",
       "      <td>1316780901</td>\n",
       "      <td>4.0</td>\n",
       "      <td>4.0</td>\n",
       "      <td>4.0</td>\n",
       "      <td>kappldav123</td>\n",
       "      <td>Eisbock</td>\n",
       "      <td>4.0</td>\n",
       "      <td>3.5</td>\n",
       "      <td>Schorschbräu Schorschbock 57%</td>\n",
       "      <td>57.7</td>\n",
       "      <td>73368</td>\n",
       "    </tr>\n",
       "  </tbody>\n",
       "</table>\n",
       "</div>"
      ],
      "text/plain": [
       "       brewery_id  brewery_name  review_time  review_overall  review_aroma  \\\n",
       "12919        6513  Schorschbräu   1316780901             4.0           4.0   \n",
       "\n",
       "       review_appearance review_profilename beer_style  review_palate  \\\n",
       "12919                4.0        kappldav123    Eisbock            4.0   \n",
       "\n",
       "       review_taste                      beer_name  beer_abv  beer_beerid  \n",
       "12919           3.5  Schorschbräu Schorschbock 57%      57.7        73368  "
      ]
     },
     "execution_count": 14,
     "metadata": {},
     "output_type": "execute_result"
    }
   ],
   "source": [
    "beer.loc[beer['beer_abv'] == max(beer['beer_abv'])]"
   ]
  },
  {
   "cell_type": "markdown",
   "id": "6ac8df12",
   "metadata": {},
   "source": [
    "A quick search indicates that this beer is real! Honestly, I would be very curious to try it."
   ]
  },
  {
   "cell_type": "markdown",
   "id": "27e6839f",
   "metadata": {},
   "source": []
  }
 ],
 "metadata": {
  "kernelspec": {
   "display_name": ".venv",
   "language": "python",
   "name": "python3"
  },
  "language_info": {
   "codemirror_mode": {
    "name": "ipython",
    "version": 3
   },
   "file_extension": ".py",
   "mimetype": "text/x-python",
   "name": "python",
   "nbconvert_exporter": "python",
   "pygments_lexer": "ipython3",
   "version": "3.9.6"
  }
 },
 "nbformat": 4,
 "nbformat_minor": 5
}
