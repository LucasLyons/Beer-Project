{
 "cells": [
  {
   "cell_type": "markdown",
   "id": "9b9fc3ec",
   "metadata": {},
   "source": [
    "# Learning Model (SVD)\n",
    "Now that we've implemented naive user-based CF, we'll implement a more advanced model - the SVD model.\n",
    "\n",
    "INSERT DESCRIPTION HERE\n",
    "\n",
    "One disadvantage of the SVD model is that it can't generalize to unseen items - predictions rely on item and user factors which are learned during model training. When training our model, "
   ]
  },
  {
   "cell_type": "code",
   "execution_count": 1,
   "id": "addea3b3",
   "metadata": {},
   "outputs": [],
   "source": [
    "%%capture\n",
    "import sys\n",
    "import os\n",
    "\n",
    "# Add project root to Python path\n",
    "project_root = os.path.abspath(\"..\")\n",
    "if project_root not in sys.path:\n",
    "    sys.path.append(project_root)\n",
    "# import packages\n",
    "from utils.imports import *\n",
    "# import SVD model\n",
    "from models.SVD import SVD"
   ]
  },
  {
   "cell_type": "code",
   "execution_count": 2,
   "id": "81debd6a",
   "metadata": {},
   "outputs": [],
   "source": [
    "# import pandas dataframes\n",
    "with open(\"../data/dataframes.pkl\", \"rb\") as f:\n",
    "    data = pickle.load(f)\n",
    "\n",
    "train = data[\"train\"]\n",
    "validation = data[\"validation\"]\n",
    "baseline = data[\"baseline\"]\n",
    "\n",
    "# load sparse matrix\n",
    "ui_csr = load_npz(\"../data/ui_csr.npz\")\n",
    "\n",
    "# load encodings\n",
    "with open(\"../artifacts/user_encoder.pkl\", \"rb\") as f:\n",
    "    user_encoder = pickle.load(f)\n",
    "with open(\"../artifacts/item_encoder.pkl\", \"rb\") as f:\n",
    "    item_encoder = pickle.load(f)\n",
    "with open(\"../artifacts/user_map.pkl\", \"rb\") as f:\n",
    "    user_map = pickle.load(f)\n",
    "with open(\"../artifacts/item_map.pkl\", \"rb\") as f:\n",
    "    item_map = pickle.load(f)"
   ]
  },
  {
   "cell_type": "code",
   "execution_count": null,
   "id": "fd40ad8f",
   "metadata": {},
   "outputs": [
    {
     "name": "stdout",
     "output_type": "stream",
     "text": [
      "Stopped after 11 iterations\n",
      "Final RMSE is: 0.6970803696464634 (clipped prediction RMSE is 0.7115665293817667)with 10 latent factors, 0.005 learning rate, 0.001 reg. parameter\n",
      "Stopped after 11 iterations\n",
      "Final RMSE is: 0.6966092906463112 (clipped prediction RMSE is 0.7115665293817667)with 10 latent factors, 0.005 learning rate, 0.02 reg. parameter\n",
      "Stopped after 11 iterations\n",
      "Final RMSE is: 0.6964254433195153 (clipped prediction RMSE is 0.7119672648750294)with 10 latent factors, 0.005 learning rate, 0.1 reg. parameter\n",
      "Stopped after 14 iterations\n",
      "Final RMSE is: 0.695346195478145 (clipped prediction RMSE is 0.7090720385523095)with 25 latent factors, 0.005 learning rate, 0.001 reg. parameter\n",
      "Stopped after 15 iterations\n",
      "Final RMSE is: 0.6941537976554261 (clipped prediction RMSE is 0.7089745146322317)with 25 latent factors, 0.005 learning rate, 0.02 reg. parameter\n",
      "Stopped after 14 iterations\n",
      "Final RMSE is: 0.6942797319143535 (clipped prediction RMSE is 0.7091086065644302)with 25 latent factors, 0.005 learning rate, 0.1 reg. parameter\n",
      "Stopped after 12 iterations\n",
      "Final RMSE is: 0.7000727484219288 (clipped prediction RMSE is 0.7148386740854138)with 50 latent factors, 0.005 learning rate, 0.001 reg. parameter\n",
      "Stopped after 13 iterations\n",
      "Final RMSE is: 0.697586883050648 (clipped prediction RMSE is 0.7125861400932286)with 50 latent factors, 0.005 learning rate, 0.02 reg. parameter\n",
      "Stopped after 13 iterations\n",
      "Final RMSE is: 0.6960137657139708 (clipped prediction RMSE is 0.7114207514181278)with 50 latent factors, 0.005 learning rate, 0.1 reg. parameter\n",
      "Stopped after 11 iterations\n",
      "Final RMSE is: 0.7035930348028471 (clipped prediction RMSE is 0.7191062616307314)with 75 latent factors, 0.005 learning rate, 0.001 reg. parameter\n",
      "Stopped after 14 iterations\n",
      "Final RMSE is: 0.6987757550392388 (clipped prediction RMSE is 0.7131438806023669)with 75 latent factors, 0.005 learning rate, 0.02 reg. parameter\n",
      "Stopped after 14 iterations\n",
      "Final RMSE is: 0.6960059420830248 (clipped prediction RMSE is 0.7116758432583419)with 75 latent factors, 0.005 learning rate, 0.1 reg. parameter\n"
     ]
    }
   ],
   "source": [
    "# this grid search takes a long time to run\n",
    "k_grid = np.array([10,25,50,75]) # set k grid\n",
    "reg_grid = np.array([0.001, 0.02, 0.1]) # set reg grid\n",
    "grid = itertools.product(k_grid, reg_grid)\n",
    "models = []\n",
    "# dataframe for grid search\n",
    "grid_search = pd.DataFrame(columns=('reg', 'k', 'RMSE', 'coverage', 'hit_rate'))\n",
    "for k, reg in grid:\n",
    "    # fit model with grid params\n",
    "    model = SVD(k=k, reg=reg)\n",
    "    model.fit(ui_csr, validation, verbose=False)\n",
    "    #evaluate\n",
    "    N_1, N_2 = 100, 10\n",
    "    hit_rate = model.hit_rate_at_N(validation, N_1) # get hit rate @ top 100 beers\n",
    "    coverage = model.top_N_coverage(N_2) # get training set item catalog coverage @ top 10 beers\n",
    "    # add results to dataframe\n",
    "    grid_search.loc[len(grid_search)]= (reg, k, model.RMSE_clipped, model.top_N_coverage(), model.hit_rate_at_N(validation))\n",
    "    # save model\n",
    "    models.append(model)"
   ]
  },
  {
   "cell_type": "code",
   "execution_count": 4,
   "id": "df53b3c3",
   "metadata": {},
   "outputs": [],
   "source": [
    "# these are the results from the grid search\n",
    "with open(\"../artifacts/models.pkl\", \"wb\") as f:\n",
    "    pickle.dump(models, f)\n",
    "with open(\"../data/grid_search.pkl\", \"wb\") as f:\n",
    "    pickle.dump(grid_search, f)"
   ]
  },
  {
   "cell_type": "code",
   "execution_count": 17,
   "id": "b576ef66",
   "metadata": {},
   "outputs": [
    {
     "data": {
      "application/vnd.microsoft.datawrangler.viewer.v0+json": {
       "columns": [
        {
         "name": "index",
         "rawType": "int64",
         "type": "integer"
        },
        {
         "name": "reg",
         "rawType": "float64",
         "type": "float"
        },
        {
         "name": "k",
         "rawType": "float64",
         "type": "float"
        },
        {
         "name": "RMSE",
         "rawType": "float64",
         "type": "float"
        },
        {
         "name": "coverage",
         "rawType": "float64",
         "type": "float"
        },
        {
         "name": "hit_rate",
         "rawType": "float64",
         "type": "float"
        }
       ],
       "ref": "db8dfb8d-8ff8-4264-abef-8649efea0c92",
       "rows": [
        [
         "0",
         "0.001",
         "10.0",
         "0.6970803696464634",
         "0.168",
         "0.007052966394689531"
        ],
        [
         "1",
         "0.02",
         "10.0",
         "0.6966092906463112",
         "0.1912",
         "0.003319043009265662"
        ],
        [
         "2",
         "0.1",
         "10.0",
         "0.6964254433195153",
         "0.1754",
         "0.0012446411284746232"
        ],
        [
         "3",
         "0.001",
         "25.0",
         "0.695346195478145",
         "0.3538",
         "0.011962384179228323"
        ],
        [
         "4",
         "0.02",
         "25.0",
         "0.6941537976554261",
         "0.4916",
         "0.004217950490941778"
        ]
       ],
       "shape": {
        "columns": 5,
        "rows": 5
       }
      },
      "text/html": [
       "<div>\n",
       "<style scoped>\n",
       "    .dataframe tbody tr th:only-of-type {\n",
       "        vertical-align: middle;\n",
       "    }\n",
       "\n",
       "    .dataframe tbody tr th {\n",
       "        vertical-align: top;\n",
       "    }\n",
       "\n",
       "    .dataframe thead th {\n",
       "        text-align: right;\n",
       "    }\n",
       "</style>\n",
       "<table border=\"1\" class=\"dataframe\">\n",
       "  <thead>\n",
       "    <tr style=\"text-align: right;\">\n",
       "      <th></th>\n",
       "      <th>reg</th>\n",
       "      <th>k</th>\n",
       "      <th>RMSE</th>\n",
       "      <th>coverage</th>\n",
       "      <th>hit_rate</th>\n",
       "    </tr>\n",
       "  </thead>\n",
       "  <tbody>\n",
       "    <tr>\n",
       "      <th>0</th>\n",
       "      <td>0.001</td>\n",
       "      <td>10.0</td>\n",
       "      <td>0.697080</td>\n",
       "      <td>0.1680</td>\n",
       "      <td>0.007053</td>\n",
       "    </tr>\n",
       "    <tr>\n",
       "      <th>1</th>\n",
       "      <td>0.020</td>\n",
       "      <td>10.0</td>\n",
       "      <td>0.696609</td>\n",
       "      <td>0.1912</td>\n",
       "      <td>0.003319</td>\n",
       "    </tr>\n",
       "    <tr>\n",
       "      <th>2</th>\n",
       "      <td>0.100</td>\n",
       "      <td>10.0</td>\n",
       "      <td>0.696425</td>\n",
       "      <td>0.1754</td>\n",
       "      <td>0.001245</td>\n",
       "    </tr>\n",
       "    <tr>\n",
       "      <th>3</th>\n",
       "      <td>0.001</td>\n",
       "      <td>25.0</td>\n",
       "      <td>0.695346</td>\n",
       "      <td>0.3538</td>\n",
       "      <td>0.011962</td>\n",
       "    </tr>\n",
       "    <tr>\n",
       "      <th>4</th>\n",
       "      <td>0.020</td>\n",
       "      <td>25.0</td>\n",
       "      <td>0.694154</td>\n",
       "      <td>0.4916</td>\n",
       "      <td>0.004218</td>\n",
       "    </tr>\n",
       "  </tbody>\n",
       "</table>\n",
       "</div>"
      ],
      "text/plain": [
       "     reg     k      RMSE  coverage  hit_rate\n",
       "0  0.001  10.0  0.697080    0.1680  0.007053\n",
       "1  0.020  10.0  0.696609    0.1912  0.003319\n",
       "2  0.100  10.0  0.696425    0.1754  0.001245\n",
       "3  0.001  25.0  0.695346    0.3538  0.011962\n",
       "4  0.020  25.0  0.694154    0.4916  0.004218"
      ]
     },
     "execution_count": 17,
     "metadata": {},
     "output_type": "execute_result"
    }
   ],
   "source": [
    "grid_search.head()"
   ]
  },
  {
   "cell_type": "code",
   "execution_count": null,
   "id": "1e1348c6",
   "metadata": {},
   "outputs": [
    {
     "data": {
      "text/plain": [
       "<Axes: xlabel='k', ylabel='coverage'>"
      ]
     },
     "execution_count": 16,
     "metadata": {},
     "output_type": "execute_result"
    },
    {
     "data": {
      "image/png": "[encoded data removed]",
      "text/plain": [
       "<Figure size 640x480 with 1 Axes>"
      ]
     },
     "metadata": {},
     "output_type": "display_data"
    }
   ],
   "source": [
    "# plot RMSE values\n",
    "sb.boxplot(data=grid_search, x='k', y='RMSE', hue='k', palette='pastel')"
   ]
  },
  {
   "cell_type": "code",
   "execution_count": null,
   "id": "c9a291dc",
   "metadata": {},
   "outputs": [
    {
     "data": {
      "text/plain": [
       "<Axes: xlabel='k', ylabel='RMSE'>"
      ]
     },
     "execution_count": 18,
     "metadata": {},
     "output_type": "execute_result"
    },
    {
     "data": {
      "image/png": "[encoded data removed]",
      "text/plain": [
       "<Figure size 640x480 with 1 Axes>"
      ]
     },
     "metadata": {},
     "output_type": "display_data"
    }
   ],
   "source": [
    "# plot coverage values\n",
    "sb.boxplot(data=grid_search, x='k', y='coverage', hue='k', palette='pastel')"
   ]
  },
  {
   "cell_type": "code",
   "execution_count": 21,
   "id": "f9081d6e",
   "metadata": {},
   "outputs": [
    {
     "data": {
      "text/plain": [
       "<Axes: xlabel='k', ylabel='hit_rate'>"
      ]
     },
     "execution_count": 21,
     "metadata": {},
     "output_type": "execute_result"
    },
    {
     "data": {
      "image/png": "[encoded data removed]",
      "text/plain": [
       "<Figure size 640x480 with 1 Axes>"
      ]
     },
     "metadata": {},
     "output_type": "display_data"
    }
   ],
   "source": [
    "# plot hit-rate values\n",
    "sb.boxplot(data=grid_search, x='k', y='hit_rate', hue='k', palette='pastel')"
   ]
  }
 ],
 "metadata": {
  "kernelspec": {
   "display_name": ".venv",
   "language": "python",
   "name": "python3"
  },
  "language_info": {
   "codemirror_mode": {
    "name": "ipython",
    "version": 3
   },
   "file_extension": ".py",
   "mimetype": "text/x-python",
   "name": "python",
   "nbconvert_exporter": "python",
   "pygments_lexer": "ipython3",
   "version": "3.12.0"
  }
 },
 "nbformat": 4,
 "nbformat_minor": 5
}
