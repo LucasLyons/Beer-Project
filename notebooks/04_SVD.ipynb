{
 "cells": [
  {
   "cell_type": "markdown",
   "id": "9b9fc3ec",
   "metadata": {},
   "source": [
    "# Learning Model (SVD)\n",
    "Now that we've implemented naive user-based CF, we'll implement a more advanced model - the SVD model.\n",
    "\n",
    "INSERT DESCRIPTION HERE\n",
    "\n",
    "One disadvantage of the SVD model is that it can't generalize to unseen items - predictions rely on item and user factors which are learned during model training. When training our model, "
   ]
  },
  {
   "cell_type": "code",
   "execution_count": 1,
   "id": "addea3b3",
   "metadata": {},
   "outputs": [],
   "source": [
    "%%capture\n",
    "import sys\n",
    "import os\n",
    "\n",
    "# Add project root to Python path\n",
    "project_root = os.path.abspath(\"..\")\n",
    "if project_root not in sys.path:\n",
    "    sys.path.append(project_root)\n",
    "# import packages\n",
    "from utils.imports import *\n",
    "# import SVD model\n",
    "from models.SVD import SVD"
   ]
  },
  {
   "cell_type": "code",
   "execution_count": 2,
   "id": "81debd6a",
   "metadata": {},
   "outputs": [],
   "source": [
    "# import pandas dataframes\n",
    "with open(\"../data/dataframes.pkl\", \"rb\") as f:\n",
    "    data = pickle.load(f)\n",
    "\n",
    "train = data[\"train\"]\n",
    "validation = data[\"validation\"]\n",
    "baseline = data[\"baseline\"]\n",
    "\n",
    "# load sparse matrix\n",
    "ui_csr = load_npz(\"../data/ui_csr.npz\")\n",
    "\n",
    "# load encodings\n",
    "with open(\"../artifacts/user_encoder.pkl\", \"rb\") as f:\n",
    "    user_encoder = pickle.load(f)\n",
    "with open(\"../artifacts/item_encoder.pkl\", \"rb\") as f:\n",
    "    item_encoder = pickle.load(f)\n",
    "with open(\"../artifacts/user_map.pkl\", \"rb\") as f:\n",
    "    user_map = pickle.load(f)\n",
    "with open(\"../artifacts/item_map.pkl\", \"rb\") as f:\n",
    "    item_map = pickle.load(f)"
   ]
  },
  {
   "cell_type": "code",
   "execution_count": 3,
   "id": "cec15852",
   "metadata": {},
   "outputs": [
    {
     "name": "stdout",
     "output_type": "stream",
     "text": [
      "Iteration: 1\n",
      "current validation RMSE: 0.7317920408414402\n",
      "Iteration: 2\n",
      "current validation RMSE: 0.7206272282396056\n",
      "Iteration: 3\n",
      "current validation RMSE: 0.7141279711252951\n",
      "Iteration: 4\n",
      "current validation RMSE: 0.7098144690578604\n",
      "Iteration: 5\n",
      "current validation RMSE: 0.7065895606032799\n",
      "Iteration: 6\n",
      "current validation RMSE: 0.7039377070625594\n",
      "Iteration: 7\n",
      "current validation RMSE: 0.7018876902872431\n",
      "Iteration: 8\n",
      "current validation RMSE: 0.7002251330605309\n",
      "Iteration: 9\n",
      "current validation RMSE: 0.6990457408862825\n",
      "Iteration: 10\n",
      "current validation RMSE: 0.6979591741035881\n",
      "Iteration: 11\n",
      "current validation RMSE: 0.6970643828928453\n",
      "Iteration: 12\n",
      "current validation RMSE: 0.6960675897377442\n",
      "Iteration: 13\n",
      "current validation RMSE: 0.6952588131623019\n",
      "Iteration: 14\n",
      "current validation RMSE: 0.6945538754005154\n",
      "Stopped after 15 iterations\n",
      "Final RMSE is: 0.6941537976554261 with 25 latent factors, 0.005 learning rate, 0.02 reg. parameter\n"
     ]
    }
   ],
   "source": [
    "test = SVD(k=25)\n",
    "test.fit(ui_csr, validation)"
   ]
  },
  {
   "cell_type": "code",
   "execution_count": 4,
   "id": "cbc1f759",
   "metadata": {},
   "outputs": [
    {
     "data": {
      "text/plain": [
       "0.4916"
      ]
     },
     "execution_count": 4,
     "metadata": {},
     "output_type": "execute_result"
    },
    {
     "data": {
      "image/png": "[encoded data removed]",
      "text/plain": [
       "<Figure size 640x480 with 1 Axes>"
      ]
     },
     "metadata": {},
     "output_type": "display_data"
    }
   ],
   "source": [
    "test.top_N_coverage()"
   ]
  },
  {
   "cell_type": "code",
   "execution_count": 7,
   "id": "e2e47f24",
   "metadata": {},
   "outputs": [
    {
     "data": {
      "text/plain": [
       "(array([    0,     0,     0, ..., 14555, 14555, 14555],\n",
       "       shape=(1412949,), dtype=int32),\n",
       " array([ 16,  27, 132, ...,  98, 190, 695], shape=(1412949,), dtype=int32))"
      ]
     },
     "execution_count": 7,
     "metadata": {},
     "output_type": "execute_result"
    }
   ],
   "source": [
    "ui_csr.nonzero()"
   ]
  },
  {
   "cell_type": "code",
   "execution_count": null,
   "id": "fd40ad8f",
   "metadata": {},
   "outputs": [
    {
     "name": "stdout",
     "output_type": "stream",
     "text": [
      "Iteration: 1\n",
      "current validation RMSE: 0.7312099517256151\n",
      "Iteration: 2\n",
      "current validation RMSE: 0.7200292194716162\n",
      "Iteration: 3\n",
      "current validation RMSE: 0.7138609267412769\n",
      "Iteration: 4\n",
      "current validation RMSE: 0.7093988395771685\n",
      "Iteration: 5\n",
      "current validation RMSE: 0.7060963390907078\n",
      "Iteration: 6\n",
      "current validation RMSE: 0.7037724824565518\n",
      "Iteration: 7\n",
      "current validation RMSE: 0.7016119143102296\n",
      "Iteration: 8\n",
      "current validation RMSE: 0.7001274759429831\n",
      "Iteration: 9\n",
      "current validation RMSE: 0.6987986685093419\n",
      "Iteration: 10\n",
      "current validation RMSE: 0.6975925873088867\n",
      "Stopped after 11 iterations\n",
      "Final RMSE is: 0.6970803696464634 with 10 latent factors, 0.005 learning rate, 0.001 reg. parameter\n",
      "Iteration: 1\n",
      "current validation RMSE: 0.7312525597029311\n",
      "Iteration: 2\n",
      "current validation RMSE: 0.7199687907541383\n",
      "Iteration: 3\n",
      "current validation RMSE: 0.7137267395096859\n",
      "Iteration: 4\n",
      "current validation RMSE: 0.7092217660028238\n",
      "Iteration: 5\n",
      "current validation RMSE: 0.7058531249341766\n"
     ]
    },
    {
     "ename": "KeyboardInterrupt",
     "evalue": "",
     "output_type": "error",
     "traceback": [
      "\u001b[31m---------------------------------------------------------------------------\u001b[39m",
      "\u001b[31mKeyboardInterrupt\u001b[39m                         Traceback (most recent call last)",
      "\u001b[36mCell\u001b[39m\u001b[36m \u001b[39m\u001b[32mIn[3]\u001b[39m\u001b[32m, line 7\u001b[39m\n\u001b[32m      5\u001b[39m models = []\n\u001b[32m      6\u001b[39m \u001b[38;5;28;01mfor\u001b[39;00m k, reg \u001b[38;5;129;01min\u001b[39;00m grid:\n\u001b[32m----> \u001b[39m\u001b[32m7\u001b[39m     models = \u001b[43mSVD\u001b[49m\u001b[43m(\u001b[49m\u001b[43mk\u001b[49m\u001b[43m=\u001b[49m\u001b[43mk\u001b[49m\u001b[43m,\u001b[49m\u001b[43m \u001b[49m\u001b[43mreg\u001b[49m\u001b[43m=\u001b[49m\u001b[43mreg\u001b[49m\u001b[43m)\u001b[49m\u001b[43m.\u001b[49m\u001b[43mfit\u001b[49m\u001b[43m(\u001b[49m\u001b[43mui_csr\u001b[49m\u001b[43m,\u001b[49m\u001b[43m \u001b[49m\u001b[43mvalidation\u001b[49m\u001b[43m,\u001b[49m\u001b[43m \u001b[49m\u001b[43mverbose\u001b[49m\u001b[43m=\u001b[49m\u001b[38;5;28;43;01mTrue\u001b[39;49;00m\u001b[43m)\u001b[49m\n",
      "\u001b[36mFile \u001b[39m\u001b[32m~/Desktop/Code/Beer-Project/models/SVD.py:95\u001b[39m, in \u001b[36mSVD.fit\u001b[39m\u001b[34m(self, train, validation, verbose)\u001b[39m\n\u001b[32m     93\u001b[39m \u001b[38;5;66;03m# loop over all interactions and update params\u001b[39;00m\n\u001b[32m     94\u001b[39m \u001b[38;5;28;01mfor\u001b[39;00m u, i, rating \u001b[38;5;129;01min\u001b[39;00m interactions:\n\u001b[32m---> \u001b[39m\u001b[32m95\u001b[39m     \u001b[38;5;28mself\u001b[39m.__update(u, i, rating)\n\u001b[32m     96\u001b[39m \u001b[38;5;66;03m# get RMSE\u001b[39;00m\n\u001b[32m     97\u001b[39m RMSE = \u001b[38;5;28mself\u001b[39m.__get_val_RMSE(validation)\n",
      "\u001b[31mKeyboardInterrupt\u001b[39m: "
     ]
    }
   ],
   "source": [
    "# this grid search will take a long time to run\n",
    "k_grid = np.array([10,25,50,75])\n",
    "reg_grid = np.array([0.001, 0.02, 0.1])\n",
    "grid = itertools.product(k_grid, reg_grid)\n",
    "models = []\n",
    "for k, reg in grid:\n",
    "    models = SVD(k=k, reg=reg).fit(ui_csr, validation, verbose=False)\n",
    "    "
   ]
  },
  {
   "cell_type": "code",
   "execution_count": null,
   "id": "8e98f158",
   "metadata": {},
   "outputs": [
    {
     "name": "stdout",
     "output_type": "stream",
     "text": [
      "1 2 3\n",
      "1 1 1\n"
     ]
    }
   ],
   "source": []
  },
  {
   "cell_type": "code",
   "execution_count": null,
   "id": "ae98b542",
   "metadata": {},
   "outputs": [
    {
     "data": {
      "text/plain": [
       "array([[1, 1],\n",
       "       [2, 1],\n",
       "       [3, 1]])"
      ]
     },
     "execution_count": 10,
     "metadata": {},
     "output_type": "execute_result"
    }
   ],
   "source": []
  }
 ],
 "metadata": {
  "kernelspec": {
   "display_name": ".venv",
   "language": "python",
   "name": "python3"
  },
  "language_info": {
   "codemirror_mode": {
    "name": "ipython",
    "version": 3
   },
   "file_extension": ".py",
   "mimetype": "text/x-python",
   "name": "python",
   "nbconvert_exporter": "python",
   "pygments_lexer": "ipython3",
   "version": "3.12.0"
  }
 },
 "nbformat": 4,
 "nbformat_minor": 5
}
