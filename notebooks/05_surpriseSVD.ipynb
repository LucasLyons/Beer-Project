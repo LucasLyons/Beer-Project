{
 "cells": [
  {
   "cell_type": "markdown",
   "id": "bde68b44",
   "metadata": {},
   "source": [
    "# Surprise SVD\n",
    "To benchmark our manual SVD implementation, we'll train the SVD model from `surprise` on our data."
   ]
  },
  {
   "cell_type": "code",
   "execution_count": 1,
   "id": "ae1e9331",
   "metadata": {},
   "outputs": [],
   "source": [
    "%%capture\n",
    "import sys\n",
    "import os\n",
    "\n",
    "# Add project root to Python path\n",
    "project_root = os.path.abspath(\"..\")\n",
    "if project_root not in sys.path:\n",
    "    sys.path.append(project_root)\n",
    "# import packages\n",
    "from utils.imports import *\n",
    "# import user-defined funcs and classes\n",
    "from utils.helpers import plot_heatmap\n",
    "from utils.helpers import get_top_n\n",
    "from utils.helpers import top_n_coverage"
   ]
  },
  {
   "cell_type": "code",
   "execution_count": 2,
   "id": "378266f5",
   "metadata": {},
   "outputs": [],
   "source": [
    "# import pandas dataframes\n",
    "with open(\"../data/dataframes.pkl\", \"rb\") as f:\n",
    "    data = pickle.load(f)\n",
    "\n",
    "train = data[\"train\"]\n",
    "validation = data[\"validation\"]\n",
    "baseline = data[\"baseline\"]\n",
    "\n",
    "# load sparse matrix\n",
    "ui_csr = load_npz(\"../data/ui_csr.npz\")\n",
    "\n",
    "# load encodings\n",
    "with open(\"../artifacts/user_encoder.pkl\", \"rb\") as f:\n",
    "    user_encoder = pickle.load(f)\n",
    "with open(\"../artifacts/item_encoder.pkl\", \"rb\") as f:\n",
    "    item_encoder = pickle.load(f)\n",
    "with open(\"../artifacts/user_map.pkl\", \"rb\") as f:\n",
    "    user_map = pickle.load(f)\n",
    "with open(\"../artifacts/item_map.pkl\", \"rb\") as f:\n",
    "    item_map = pickle.load(f)"
   ]
  },
  {
   "cell_type": "code",
   "execution_count": 3,
   "id": "ff9a7097",
   "metadata": {},
   "outputs": [],
   "source": [
    "# import surprise tools\n",
    "from surprise import SVD, Dataset, Reader, accuracy\n",
    "from surprise.model_selection import cross_validate, GridSearchCV"
   ]
  },
  {
   "cell_type": "code",
   "execution_count": 4,
   "id": "a7bae56f",
   "metadata": {},
   "outputs": [],
   "source": [
    "# create reader\n",
    "reader = Reader(rating_scale=(0, 5))\n",
    "# generate in surprise data\n",
    "train_ds = Dataset.load_from_df(\n",
    "    train[['user_idx', \"item_idx\", \"review_overall\"]], reader)\n",
    "trainset = train_ds.build_full_trainset()"
   ]
  },
  {
   "cell_type": "code",
   "execution_count": 5,
   "id": "f2b93210",
   "metadata": {},
   "outputs": [],
   "source": [
    "# set parameter grid\n",
    "param_grid = {\"reg_all\": [0.001, 0.02, 0.1], \"n_factors\": [10, 25, 50, 75]}\n",
    "gs = GridSearchCV(SVD, param_grid, measures=[\"rmse\", \"mae\"], cv=3, n_jobs=-1, joblib_verbose=3)"
   ]
  },
  {
   "cell_type": "code",
   "execution_count": 6,
   "id": "bfb9b6bb",
   "metadata": {},
   "outputs": [
    {
     "name": "stderr",
     "output_type": "stream",
     "text": [
      "[Parallel(n_jobs=-1)]: Using backend LokyBackend with 8 concurrent workers.\n",
      "[Parallel(n_jobs=-1)]: Done  16 tasks      | elapsed:   20.0s\n",
      "[Parallel(n_jobs=-1)]: Done  34 out of  36 | elapsed:   42.0s remaining:    2.5s\n",
      "[Parallel(n_jobs=-1)]: Done  36 out of  36 | elapsed:   43.2s finished\n"
     ]
    }
   ],
   "source": [
    "gs.fit(train_ds)"
   ]
  },
  {
   "cell_type": "code",
   "execution_count": 7,
   "id": "55f1cf07",
   "metadata": {},
   "outputs": [
    {
     "data": {
      "text/plain": [
       "({'reg_all': 0.02, 'n_factors': 10},\n",
       " 0.5937020914525424,\n",
       " {'reg_all': 0.02, 'n_factors': 10},\n",
       " 0.44486066939556607)"
      ]
     },
     "execution_count": 7,
     "metadata": {},
     "output_type": "execute_result"
    }
   ],
   "source": [
    "gs.best_params['rmse'], gs.best_score['rmse'], gs.best_params['mae'], gs.best_score['mae']"
   ]
  },
  {
   "cell_type": "code",
   "execution_count": 8,
   "id": "5c0f97f1",
   "metadata": {},
   "outputs": [],
   "source": [
    "#fit model\n",
    "surprise_SVD = SVD(reg_all=0.02, n_factors=10)"
   ]
  },
  {
   "cell_type": "code",
   "execution_count": 9,
   "id": "00df2620",
   "metadata": {},
   "outputs": [
    {
     "data": {
      "text/plain": [
       "<surprise.prediction_algorithms.matrix_factorization.SVD at 0x12bf086e0>"
      ]
     },
     "execution_count": 9,
     "metadata": {},
     "output_type": "execute_result"
    }
   ],
   "source": [
    "surprise_SVD.fit(trainset)"
   ]
  },
  {
   "cell_type": "code",
   "execution_count": 10,
   "id": "77d9e53a",
   "metadata": {},
   "outputs": [],
   "source": [
    "valset = list(zip(validation['user_idx'],\n",
    "                  validation['item_idx'],\n",
    "                  validation['review_overall']))"
   ]
  },
  {
   "cell_type": "code",
   "execution_count": 11,
   "id": "4f817733",
   "metadata": {},
   "outputs": [
    {
     "name": "stdout",
     "output_type": "stream",
     "text": [
      "RMSE=0.6919, MAE=0.5165\n"
     ]
    }
   ],
   "source": [
    "preds = surprise_SVD.test(valset)\n",
    "rmse = accuracy.rmse(preds, verbose=False)\n",
    "mae  = accuracy.mae(preds,  verbose=False)\n",
    "print(f\"RMSE={rmse:.4f}, MAE={mae:.4f}\")"
   ]
  },
  {
   "cell_type": "code",
   "execution_count": 12,
   "id": "5e90f1ae",
   "metadata": {},
   "outputs": [
    {
     "name": "stdout",
     "output_type": "stream",
     "text": [
      "Top 10 item catalog coverage with k=10, reg=0.02 is 0.15042649658034274\n"
     ]
    }
   ],
   "source": [
    "print(f'Top 10 item catalog coverage with k=10, reg=0.02 is {top_n_coverage(surprise_SVD, trainset, N=10)}')"
   ]
  },
  {
   "cell_type": "code",
   "execution_count": 13,
   "id": "5fc02a00",
   "metadata": {},
   "outputs": [
    {
     "data": {
      "text/plain": [
       "<surprise.prediction_algorithms.matrix_factorization.SVD at 0x12b4dd880>"
      ]
     },
     "execution_count": 13,
     "metadata": {},
     "output_type": "execute_result"
    }
   ],
   "source": [
    "test_model = SVD(n_factors = 50)\n",
    "test_model.fit(trainset)"
   ]
  },
  {
   "cell_type": "code",
   "execution_count": 14,
   "id": "229f8e0b",
   "metadata": {},
   "outputs": [
    {
     "name": "stdout",
     "output_type": "stream",
     "text": [
      "RMSE=0.6926, MAE=0.5165\n"
     ]
    }
   ],
   "source": [
    "preds = test_model.test(valset)\n",
    "rmse = accuracy.rmse(preds, verbose=False)\n",
    "mae  = accuracy.mae(preds,  verbose=False)\n",
    "print(f\"RMSE={rmse:.4f}, MAE={mae:.4f}\")"
   ]
  },
  {
   "cell_type": "code",
   "execution_count": 16,
   "id": "c10ff372",
   "metadata": {},
   "outputs": [
    {
     "name": "stdout",
     "output_type": "stream",
     "text": [
      "Top 10 item catalog coverage with k=50, reg=0.02 is 0.6530008453085376\n"
     ]
    }
   ],
   "source": [
    "print(f'Top 10 item catalog coverage with k=50, reg=0.02 is {top_n_coverage(test_model, trainset, N=10)}')"
   ]
  }
 ],
 "metadata": {
  "kernelspec": {
   "display_name": ".venv (3.12.0)",
   "language": "python",
   "name": "python3"
  },
  "language_info": {
   "codemirror_mode": {
    "name": "ipython",
    "version": 3
   },
   "file_extension": ".py",
   "mimetype": "text/x-python",
   "name": "python",
   "nbconvert_exporter": "python",
   "pygments_lexer": "ipython3",
   "version": "3.12.0"
  }
 },
 "nbformat": 4,
 "nbformat_minor": 5
}
