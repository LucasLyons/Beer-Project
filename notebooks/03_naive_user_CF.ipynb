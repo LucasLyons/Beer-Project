{
 "cells": [
  {
   "cell_type": "markdown",
   "id": "cf333602",
   "metadata": {},
   "source": [
    "# Simple Neighbourhood Approach (User-Based CF)\n",
    "As a first step, we will use basic neighbourhood-based collaborative filtering (CF) techniques, with a simple model as a baseline."
   ]
  },
  {
   "cell_type": "markdown",
   "id": "8de69b10",
   "metadata": {},
   "source": [
    "## Loading in Data"
   ]
  },
  {
   "cell_type": "code",
   "execution_count": 1,
   "id": "29db0925",
   "metadata": {},
   "outputs": [],
   "source": [
    "%%capture\n",
    "import sys\n",
    "import os\n",
    "\n",
    "# Add project root to Python path\n",
    "project_root = os.path.abspath(\"..\")\n",
    "if project_root not in sys.path:\n",
    "    sys.path.append(project_root)\n",
    "# import packages\n",
    "from utils.imports import *\n",
    "# import user-defined funcs and classes\n",
    "from utils.helpers import get_beer_data\n",
    "from models.UserBasedCF import UserBasedCF"
   ]
  },
  {
   "cell_type": "code",
   "execution_count": 2,
   "id": "79fb2f18",
   "metadata": {},
   "outputs": [],
   "source": [
    "# import pandas dataframes\n",
    "with open(\"../data/dataframes.pkl\", \"rb\") as f:\n",
    "    data = pickle.load(f)\n",
    "\n",
    "train = data[\"train\"]\n",
    "validation = data[\"validation\"]\n",
    "baseline = data[\"baseline\"]\n",
    "\n",
    "# load sparse matrix\n",
    "ui_csr = load_npz(\"../data/ui_csr.npz\")\n",
    "\n",
    "# load encodings\n",
    "with open(\"../artifacts/user_encoder.pkl\", \"rb\") as f:\n",
    "    user_encoder = pickle.load(f)\n",
    "with open(\"../artifacts/item_encoder.pkl\", \"rb\") as f:\n",
    "    item_encoder = pickle.load(f)\n",
    "with open(\"../artifacts/user_map.pkl\", \"rb\") as f:\n",
    "    user_map = pickle.load(f)\n",
    "with open(\"../artifacts/item_map.pkl\", \"rb\") as f:\n",
    "    item_map = pickle.load(f)"
   ]
  },
  {
   "cell_type": "markdown",
   "id": "fceb5362",
   "metadata": {},
   "source": [
    "## Model Fitting\n"
   ]
  },
  {
   "cell_type": "code",
   "execution_count": 3,
   "id": "aeb25938",
   "metadata": {},
   "outputs": [],
   "source": [
    "user_CF = UserBasedCF(ui_csr, user_encoder, item_encoder)\n",
    "user_CF.fit()"
   ]
  },
  {
   "cell_type": "code",
   "execution_count": 4,
   "id": "01360a5f",
   "metadata": {},
   "outputs": [],
   "source": [
    "with open(\"../artifacts/user_CF.pkl\", \"wb\") as f:\n",
    "    pickle.dump(user_CF, f)"
   ]
  }
 ],
 "metadata": {
  "kernelspec": {
   "display_name": ".venv (3.12.0)",
   "language": "python",
   "name": "python3"
  },
  "language_info": {
   "codemirror_mode": {
    "name": "ipython",
    "version": 3
   },
   "file_extension": ".py",
   "mimetype": "text/x-python",
   "name": "python",
   "nbconvert_exporter": "python",
   "pygments_lexer": "ipython3",
   "version": "3.12.0"
  }
 },
 "nbformat": 4,
 "nbformat_minor": 5
}
