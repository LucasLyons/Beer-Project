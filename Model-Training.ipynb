{
 "cells": [
  {
   "cell_type": "markdown",
   "id": "cf333602",
   "metadata": {},
   "source": [
    "# Model Training\n",
    "## Simple Neighbourhood Approach (User/Item Collaborative Filtering)\n",
    "As a first step, we will use basic neighbourhood-based collaborative filtering (CF) techniques (user and item based), with a simple model as a baseline. Here we implement user and item-based CF as described in Chapter 4 of *Recommender Systems Handbook, 3rd Ed.* (Ricci et. al, 2022). "
   ]
  },
  {
   "cell_type": "markdown",
   "id": "8de69b10",
   "metadata": {},
   "source": [
    "### Pre-Processing"
   ]
  },
  {
   "cell_type": "code",
   "execution_count": 37,
   "id": "29db0925",
   "metadata": {},
   "outputs": [],
   "source": [
    "%%capture\n",
    "import scipy as sp\n",
    "import scipy.stats as stats\n",
    "import powerlaw as pl\n",
    "import kagglehub\n",
    "import pandas as pd\n",
    "import numpy as np\n",
    "import seaborn as sb\n",
    "import matplotlib.pyplot as plt\n",
    "import duckdb as db"
   ]
  },
  {
   "cell_type": "code",
   "execution_count": 23,
   "id": "7c6d5a90",
   "metadata": {},
   "outputs": [
    {
     "name": "stderr",
     "output_type": "stream",
     "text": [
      "100%|██████████| 27.4M/27.4M [00:00<00:00, 77.1MB/s]\n"
     ]
    }
   ],
   "source": [
    "# Download latest version of data\n",
    "path = kagglehub.dataset_download(\"rdoume/beerreviews\", path='beer_reviews.csv', force_download = True)\n",
    "beer = pd.read_csv(path)\n",
    "#remove nulls\n",
    "beer = beer[-beer.isna().any(axis=1)]"
   ]
  },
  {
   "cell_type": "code",
   "execution_count": 24,
   "id": "1694e54d",
   "metadata": {},
   "outputs": [],
   "source": [
    "#set random seed\n",
    "np.random.seed(69420)"
   ]
  },
  {
   "cell_type": "markdown",
   "id": "3ac37d1e",
   "metadata": {},
   "source": [
    "#### Multiple reviews for the same item\n",
    "We found earlier that there were around 14000 instances of a user reviewing the same beer more than once. Since basic collaborative filtering frameworks only account for a single user-item interaction, we need to specify an approach for dealing with these cases. In our simple model, we'll take the most recent rating as the \"true\" value. Later we'll experiment with different approaches."
   ]
  },
  {
   "cell_type": "code",
   "execution_count": null,
   "id": "19f26916",
   "metadata": {},
   "outputs": [],
   "source": [
    "# let's make a new dataframe\n",
    "beer_simple = beer.copy()\n",
    "# sort by the relevant columns\n",
    "beer_simple = beer_simple.sort_values(by=['review_profilename', 'beer_beerid', 'review_time'])\n",
    "# keep only the most recent review for the user-beer key\n",
    "beer_simple = beer_simple.drop_duplicates(subset=['review_profilename', 'beer_beerid'], keep=\"last\")\n"
   ]
  },
  {
   "cell_type": "code",
   "execution_count": 42,
   "id": "f7799a1b",
   "metadata": {},
   "outputs": [
    {
     "data": {
      "text/html": [
       "<div>\n",
       "<style scoped>\n",
       "    .dataframe tbody tr th:only-of-type {\n",
       "        vertical-align: middle;\n",
       "    }\n",
       "\n",
       "    .dataframe tbody tr th {\n",
       "        vertical-align: top;\n",
       "    }\n",
       "\n",
       "    .dataframe thead th {\n",
       "        text-align: right;\n",
       "    }\n",
       "</style>\n",
       "<table border=\"1\" class=\"dataframe\">\n",
       "  <thead>\n",
       "    <tr style=\"text-align: right;\">\n",
       "      <th></th>\n",
       "      <th>review_profilename</th>\n",
       "      <th>beer_beerid</th>\n",
       "    </tr>\n",
       "  </thead>\n",
       "  <tbody>\n",
       "  </tbody>\n",
       "</table>\n",
       "</div>"
      ],
      "text/plain": [
       "Empty DataFrame\n",
       "Columns: [review_profilename, beer_beerid]\n",
       "Index: []"
      ]
     },
     "execution_count": 42,
     "metadata": {},
     "output_type": "execute_result"
    }
   ],
   "source": [
    "# test using SQL\n",
    "query = \"SELECT review_profilename, beer_beerid \\\n",
    "    FROM beer_simple GROUP BY review_profilename, beer_beerid\\\n",
    "    HAVING COUNT(*)>1 \\\n",
    "    ORDER BY review_profilename, beer_beerid\"\n",
    "#use duckdb to query the data\n",
    "db.sql(query).df()\n"
   ]
  },
  {
   "cell_type": "markdown",
   "id": "edc00d85",
   "metadata": {},
   "source": [
    "#### Threshold Choice\n",
    "We're going to look at the performance of models using several different thresholds for review counts. There are some different considerations to make. First of all, we saw from the EDA that many beers and users only have one review - this is the cold start problem. Also, since we'll be using a training, validation, and testing set, we need a threshold of at least 3. We'll investigate how different thresholds affect the tradeoff between coverage of recommended items and the quality of recommendations."
   ]
  },
  {
   "cell_type": "code",
   "execution_count": null,
   "id": "767ad0e5",
   "metadata": {},
   "outputs": [],
   "source": [
    "t = [3,5,10,20,50]\n",
    "training_sets\n",
    "for i in t:\n"
   ]
  }
 ],
 "metadata": {
  "kernelspec": {
   "display_name": ".venv",
   "language": "python",
   "name": "python3"
  },
  "language_info": {
   "codemirror_mode": {
    "name": "ipython",
    "version": 3
   },
   "file_extension": ".py",
   "mimetype": "text/x-python",
   "name": "python",
   "nbconvert_exporter": "python",
   "pygments_lexer": "ipython3",
   "version": "3.12.0"
  }
 },
 "nbformat": 4,
 "nbformat_minor": 5
}
