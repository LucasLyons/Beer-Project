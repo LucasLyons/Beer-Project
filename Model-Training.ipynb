{
 "cells": [
  {
   "cell_type": "markdown",
   "id": "cf333602",
   "metadata": {},
   "source": [
    "# Model Training\n",
    "In this file, we will train our model. As a first step, we will use basic neighbourhood-based collaborative filtering (CF) techniques (user and item based), with a simple model as a baseline. Here we implement user and item-based CF as described in Chapter 4 of *Recommender Systems Handbook, 3rd Ed.* (Ricci et. al, 2022). "
   ]
  },
  {
   "cell_type": "markdown",
   "id": "8de69b10",
   "metadata": {},
   "source": [
    "## Basic Data Processing"
   ]
  },
  {
   "cell_type": "code",
   "execution_count": null,
   "id": "29db0925",
   "metadata": {},
   "outputs": [],
   "source": [
    "%%capture\n",
    "import scipy as sp\n",
    "import scipy.stats as stats\n",
    "import powerlaw as pl\n",
    "import kagglehub\n",
    "import pandas as pd\n",
    "import numpy as np\n",
    "import seaborn as sb\n",
    "import matplotlib.pyplot as plt\n"
   ]
  },
  {
   "cell_type": "code",
   "execution_count": null,
   "id": "7c6d5a90",
   "metadata": {},
   "outputs": [],
   "source": [
    "# Download latest version of data\n",
    "path = kagglehub.dataset_download(\"rdoume/beerreviews\", path='beer_reviews.csv', force_download = True)\n",
    "beer = pd.read_csv(path)\n",
    "#remove nulls\n",
    "beer = beer[-beer.isna().any(axis=1)]"
   ]
  },
  {
   "cell_type": "markdown",
   "id": "edc00d85",
   "metadata": {},
   "source": [
    "### Threshold Choice\n",
    "We're going to look at the performance of models using several different thresholds for review count."
   ]
  }
 ],
 "metadata": {
  "kernelspec": {
   "display_name": ".venv",
   "language": "python",
   "name": "python3"
  },
  "language_info": {
   "name": "python",
   "version": "3.9.6"
  }
 },
 "nbformat": 4,
 "nbformat_minor": 5
}
